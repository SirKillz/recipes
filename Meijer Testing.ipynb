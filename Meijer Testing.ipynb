{
 "cells": [
  {
   "cell_type": "code",
   "execution_count": 1,
   "id": "25d9032a-a938-41a3-9ea4-7c678e64a8da",
   "metadata": {},
   "outputs": [
    {
     "name": "stdout",
     "output_type": "stream",
     "text": [
      "{'chili': [{'recipeItem': 'onion', 'url': 'https://www.meijer.com/shopping/product/sweet-onion/4166.html', 'subUrl': 'https://www.meijer.com/shopping/product/meijer-light-red-kidney-beans-15-5-oz/4125085666.html', 'id': 2}, {'recipeItem': 'ground_turkey', 'url': 'https://www.meijer.com/shopping/product/jennie-o-turkey-store-lean-ground-turkey-93-lean-16-oz/4222230200.html', 'subUrl': '\"\"', 'id': 3}, {'recipeItem': 'diced_tomatoes_w_green_chilis', 'url': 'https://www.meijer.com/shopping/product/meijer-original-diced-tomatoes-green-chilis-14-5-oz/70882039361.html', 'subUrl': '\"\"', 'id': 4}, {'recipeItem': 'fire_roasted_diced_tomatoes', 'url': 'https://www.meijer.com/shopping/product/hunt-s-fire-roasted-diced-tomatoes-14-5-oz/2700037800.html', 'subUrl': '\"\"', 'id': 5}, {'recipeItem': 'tomato_sauce', 'url': 'https://www.meijer.com/shopping/product/meijer-tomato-sauce-15-oz/70882039307.html', 'subUrl': '\"\"', 'id': 6}, {'recipeItem': 'black_beans', 'url': 'https://www.meijer.com/shopping/product/meijer-black-beans-15-25-oz/4125096392.html', 'subUrl': '\"\"', 'id': 7}, {'recipeItem': 'kidney_beans', 'url': 'https://www.meijer.com/shopping/product/meijer-dark-red-kidney-beans-15-5-oz/4125094166.html', 'subUrl': '\"\"', 'id': 8}]}\n"
     ]
    }
   ],
   "source": [
    "import requests\n",
    "\n",
    "response = (requests.get('https://api.sheety.co/28d41c9e28157106a2c489d2dc97c2ce/meijerRecipes/chili')).json()\n",
    "print(response)"
   ]
  },
  {
   "cell_type": "code",
   "execution_count": 2,
   "id": "6e01ee62-50d3-4a80-99f4-86157fa367c3",
   "metadata": {},
   "outputs": [
    {
     "name": "stdout",
     "output_type": "stream",
     "text": [
      "['https://www.meijer.com/shopping/product/sweet-onion/4166.html', 'https://www.meijer.com/shopping/product/jennie-o-turkey-store-lean-ground-turkey-93-lean-16-oz/4222230200.html', 'https://www.meijer.com/shopping/product/meijer-original-diced-tomatoes-green-chilis-14-5-oz/70882039361.html', 'https://www.meijer.com/shopping/product/hunt-s-fire-roasted-diced-tomatoes-14-5-oz/2700037800.html', 'https://www.meijer.com/shopping/product/meijer-tomato-sauce-15-oz/70882039307.html', 'https://www.meijer.com/shopping/product/meijer-black-beans-15-25-oz/4125096392.html', 'https://www.meijer.com/shopping/product/meijer-dark-red-kidney-beans-15-5-oz/4125094166.html']\n"
     ]
    }
   ],
   "source": [
    "recipe_list = [item['url'] for item in response['chili']]\n",
    "print(recipe_list)"
   ]
  },
  {
   "cell_type": "code",
   "execution_count": 9,
   "id": "83a3c9a5-2f12-4111-b389-0e81a0e1b4bb",
   "metadata": {},
   "outputs": [],
   "source": [
    "class RecipeItem:\n",
    "    def __init__(self, item_name, url, sub_url):\n",
    "        self.item_name = item_name\n",
    "        self.url = url \n",
    "        self.sub_url = sub_url\n",
    "        "
   ]
  },
  {
   "cell_type": "code",
   "execution_count": 25,
   "id": "04f17e1a-1042-4785-ba6f-d6290455788c",
   "metadata": {},
   "outputs": [],
   "source": [
    "recipe_item_list = []"
   ]
  },
  {
   "cell_type": "code",
   "execution_count": 26,
   "id": "fb72de70-2f93-4bbb-ab20-dd5b885145f1",
   "metadata": {},
   "outputs": [],
   "source": [
    "for item in response['chili']:\n",
    "    recipe_item = RecipeItem(item_name=item['recipeItem'], url=item['url'], sub_url=item['subUrl'])\n",
    "    if recipe_item.sub_url == '\"\"':\n",
    "        recipe_item.sub_url = \"\"\n",
    "    recipe_item_list.append(recipe_item)"
   ]
  },
  {
   "cell_type": "code",
   "execution_count": 27,
   "id": "f294e05c-645e-4f3c-a4ec-ba66d8761d9e",
   "metadata": {},
   "outputs": [
    {
     "name": "stdout",
     "output_type": "stream",
     "text": [
      "ground_turkey\n"
     ]
    }
   ],
   "source": [
    "print(recipe_item_list[1].item_name)"
   ]
  },
  {
   "cell_type": "code",
   "execution_count": 28,
   "id": "a38e5621-d5bc-4008-b558-cdd5abedfeab",
   "metadata": {},
   "outputs": [
    {
     "name": "stdout",
     "output_type": "stream",
     "text": [
      "https://www.meijer.com/shopping/product/jennie-o-turkey-store-lean-ground-turkey-93-lean-16-oz/4222230200.html\n"
     ]
    }
   ],
   "source": [
    "print(recipe_item_list[1].url)"
   ]
  },
  {
   "cell_type": "code",
   "execution_count": 29,
   "id": "85c8837c-67c5-441d-8a51-064665e3394e",
   "metadata": {},
   "outputs": [
    {
     "name": "stdout",
     "output_type": "stream",
     "text": [
      "\n"
     ]
    }
   ],
   "source": [
    "print(recipe_item_list[1].sub_url)"
   ]
  },
  {
   "cell_type": "code",
   "execution_count": null,
   "id": "a17667b1-ed18-40d1-8401-02e89feb8d92",
   "metadata": {},
   "outputs": [],
   "source": []
  }
 ],
 "metadata": {
  "kernelspec": {
   "display_name": "Python 3 (ipykernel)",
   "language": "python",
   "name": "python3"
  },
  "language_info": {
   "codemirror_mode": {
    "name": "ipython",
    "version": 3
   },
   "file_extension": ".py",
   "mimetype": "text/x-python",
   "name": "python",
   "nbconvert_exporter": "python",
   "pygments_lexer": "ipython3",
   "version": "3.11.3"
  }
 },
 "nbformat": 4,
 "nbformat_minor": 5
}
